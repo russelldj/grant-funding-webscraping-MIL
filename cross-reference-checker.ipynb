{
 "cells": [
  {
   "cell_type": "code",
   "execution_count": 7,
   "metadata": {},
   "outputs": [],
   "source": [
    "import pandas as pd\n",
    "import os"
   ]
  },
  {
   "cell_type": "code",
   "execution_count": 20,
   "metadata": {},
   "outputs": [],
   "source": [
    "current_dir = os.getcwd()\n",
    "dtic_directory = os.path.join(current_dir, \"data/01_initial/DoD_DTIC\")\n",
    "usas_directory = os.path.join(current_dir, \"data/01_initial/USA_spend\")\n",
    "\n",
    "file1 = os.path.join(dtic_directory, 'ucberkeley_dtic_webscraped.csv')\n",
    "file2 = os.path.join(usas_directory, \n",
    "            'Berkeley-FY-All-UEI-GS3YEVSS12N6-hash-a0574ecad788a51a3aca676b7ed77f5d',\n",
    "            'Assistance_PrimeAwardSummaries_2024-06-05_H06M28S06_1.csv')\n",
    "\n",
    "df1 = pd.read_csv(file1)\n",
    "df2 = pd.read_csv(file2)"
   ]
  },
  {
   "cell_type": "code",
   "execution_count": 32,
   "metadata": {},
   "outputs": [
    {
     "data": {
      "text/plain": [
       "Unnamed: 0                                                            0\n",
       "title                 High-Fidelity, 2D Noise-Resilient Superconduct...\n",
       "funder                                         National Security Agency\n",
       "investigator                                           to Irfan Siddiqi\n",
       "abstract              We propose to design, fabricate, and benchmark...\n",
       "funding_amount_usd                                           11,918,116\n",
       "start_year                                                         2022\n",
       "end_year                                                         2026.0\n",
       "Name: 0, dtype: object"
      ]
     },
     "execution_count": 32,
     "metadata": {},
     "output_type": "execute_result"
    }
   ],
   "source": [
    "df1.loc[0]"
   ]
  },
  {
   "cell_type": "code",
   "execution_count": 25,
   "metadata": {},
   "outputs": [
    {
     "data": {
      "text/plain": [
       "Index(['Unnamed: 0', 'title', 'funder', 'investigator', 'abstract',\n",
       "       'funding_amount_usd', 'start_year', 'end_year'],\n",
       "      dtype='object')"
      ]
     },
     "execution_count": 25,
     "metadata": {},
     "output_type": "execute_result"
    }
   ],
   "source": [
    "df1.columns"
   ]
  },
  {
   "cell_type": "code",
   "execution_count": 34,
   "metadata": {},
   "outputs": [
    {
     "data": {
      "text/plain": [
       "Index(['assistance_award_unique_key', 'award_id_fain', 'award_id_uri',\n",
       "       'sai_number', 'disaster_emergency_fund_codes',\n",
       "       'outlayed_amount_from_COVID-19_supplementals',\n",
       "       'obligated_amount_from_COVID-19_supplementals',\n",
       "       'outlayed_amount_from_IIJA_supplemental',\n",
       "       'obligated_amount_from_IIJA_supplemental', 'award_latest_action_date',\n",
       "       'award_latest_action_date_fiscal_year', 'total_obligated_amount',\n",
       "       'total_outlayed_amount', 'indirect_cost_federal_share_amount',\n",
       "       'total_non_federal_funding_amount', 'total_funding_amount',\n",
       "       'total_face_value_of_loan', 'total_loan_subsidy_cost',\n",
       "       'award_base_action_date', 'award_base_action_date_fiscal_year',\n",
       "       'period_of_performance_start_date',\n",
       "       'period_of_performance_current_end_date', 'awarding_agency_code',\n",
       "       'awarding_agency_name', 'awarding_sub_agency_code',\n",
       "       'awarding_sub_agency_name', 'awarding_office_code',\n",
       "       'awarding_office_name', 'funding_agency_code', 'funding_agency_name',\n",
       "       'funding_sub_agency_code', 'funding_sub_agency_name',\n",
       "       'funding_office_code', 'funding_office_name',\n",
       "       'treasury_accounts_funding_this_award',\n",
       "       'federal_accounts_funding_this_award',\n",
       "       'object_classes_funding_this_award',\n",
       "       'program_activities_funding_this_award', 'recipient_uei',\n",
       "       'recipient_duns', 'recipient_name', 'recipient_name_raw',\n",
       "       'recipient_parent_uei', 'recipient_parent_duns',\n",
       "       'recipient_parent_name', 'recipient_country_code',\n",
       "       'recipient_country_name', 'recipient_address_line_1',\n",
       "       'recipient_address_line_2', 'recipient_city_code',\n",
       "       'recipient_city_name', 'prime_award_summary_recipient_county_fips_code',\n",
       "       'recipient_county_name',\n",
       "       'prime_award_summary_recipient_state_fips_code', 'recipient_state_code',\n",
       "       'recipient_state_name', 'recipient_zip_code',\n",
       "       'recipient_zip_last_4_code',\n",
       "       'prime_award_summary_recipient_cd_original',\n",
       "       'prime_award_summary_recipient_cd_current',\n",
       "       'recipient_foreign_city_name', 'recipient_foreign_province_name',\n",
       "       'recipient_foreign_postal_code', 'primary_place_of_performance_scope',\n",
       "       'primary_place_of_performance_country_code',\n",
       "       'primary_place_of_performance_country_name',\n",
       "       'primary_place_of_performance_code',\n",
       "       'primary_place_of_performance_city_name',\n",
       "       'prime_award_summary_place_of_performance_county_fips_code',\n",
       "       'primary_place_of_performance_county_name',\n",
       "       'prime_award_summary_place_of_performance_state_fips_code',\n",
       "       'primary_place_of_performance_state_name',\n",
       "       'primary_place_of_performance_zip_4',\n",
       "       'prime_award_summary_place_of_performance_cd_original',\n",
       "       'prime_award_summary_place_of_performance_cd_current',\n",
       "       'primary_place_of_performance_foreign_location',\n",
       "       'cfda_numbers_and_titles', 'funding_opportunity_number',\n",
       "       'funding_opportunity_goals_text', 'assistance_type_code',\n",
       "       'assistance_type_description',\n",
       "       'prime_award_base_transaction_description',\n",
       "       'business_funds_indicator_code', 'business_funds_indicator_description',\n",
       "       'business_types_code', 'business_types_description', 'record_type_code',\n",
       "       'record_type_description', 'highly_compensated_officer_1_name',\n",
       "       'highly_compensated_officer_1_amount',\n",
       "       'highly_compensated_officer_2_name',\n",
       "       'highly_compensated_officer_2_amount',\n",
       "       'highly_compensated_officer_3_name',\n",
       "       'highly_compensated_officer_3_amount',\n",
       "       'highly_compensated_officer_4_name',\n",
       "       'highly_compensated_officer_4_amount',\n",
       "       'highly_compensated_officer_5_name',\n",
       "       'highly_compensated_officer_5_amount', 'usaspending_permalink',\n",
       "       'last_modified_date'],\n",
       "      dtype='object')"
      ]
     },
     "execution_count": 34,
     "metadata": {},
     "output_type": "execute_result"
    }
   ],
   "source": [
    "df2.columns"
   ]
  }
 ],
 "metadata": {
  "kernelspec": {
   "display_name": "webscraping-env",
   "language": "python",
   "name": "python3"
  },
  "language_info": {
   "codemirror_mode": {
    "name": "ipython",
    "version": 3
   },
   "file_extension": ".py",
   "mimetype": "text/x-python",
   "name": "python",
   "nbconvert_exporter": "python",
   "pygments_lexer": "ipython3",
   "version": "3.12.3"
  }
 },
 "nbformat": 4,
 "nbformat_minor": 2
}
