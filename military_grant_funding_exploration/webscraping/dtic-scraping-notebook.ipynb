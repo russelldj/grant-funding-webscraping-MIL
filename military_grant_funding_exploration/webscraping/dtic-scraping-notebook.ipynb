{
 "cells": [
  {
   "cell_type": "code",
   "execution_count": 1,
   "metadata": {},
   "outputs": [],
   "source": [
    "import os\n",
    "from pathlib import Path\n",
    "\n",
    "# todo: got to handle the articles (at the bottom) with missing fields\n",
    "\n",
    "from selenium import webdriver\n",
    "from selenium.webdriver.common.by import By\n",
    "# from selenium.webdriver.common.keys import Keys\n",
    "from selenium.webdriver.support.ui import WebDriverWait\n",
    "from selenium.webdriver.support import expected_conditions as EC\n",
    "# from selenium.common.exceptions import TimeoutException\n",
    "import pandas as pd\n",
    "\n",
    "from functions import WaitForNonEmptyText"
   ]
  },
  {
   "cell_type": "code",
   "execution_count": 2,
   "metadata": {},
   "outputs": [],
   "source": [
    "def get_summary_text(browser, element_name):\n",
    "    WebDriverWait(browser, 10).until(\n",
    "        EC.presence_of_element_located(\n",
    "            (By.XPATH, f\"//button[@id='tab_{element_name}']\")\n",
    "        )\n",
    "    ).click()\n",
    "    # Get the corresponding text\n",
    "    WebDriverWait(browser, 10).until(\n",
    "        WaitForNonEmptyText(By.XPATH, f\"//div[@aria-labelledby='tab_{element_name}']\")\n",
    "    )\n",
    "    text_div = WebDriverWait(browser, 10).until(\n",
    "        EC.presence_of_element_located(\n",
    "            (By.XPATH, f\"//div[@aria-labelledby='tab_{element_name}']\")\n",
    "        )\n",
    "    )\n",
    "    text = text_div.text\n",
    "    return text\n",
    "\n",
    "\n",
    "SCROLL_TO_BOTTOM = False\n",
    "# Specify which campus, from the list of options below\n",
    "CAMPUS = \"ucberkeley\"\n",
    "\n",
    "url = {\n",
    "    \"ucsd\": \"https://dtic.dimensions.ai/discover/grant?search_mode=content&or_facet_research_org=grid.266100.3&not_facet_funder=grid.496791.4&order=funding\",\n",
    "    \"ucla\": \"https://dtic.dimensions.ai/discover/grant?search_mode=content&not_facet_funder=grid.496791.4&order=funding&or_facet_research_org=grid.19006.3e\",\n",
    "    \"ucberkeley\": \"https://dtic.dimensions.ai/discover/grant?search_mode=content&not_facet_funder=grid.496791.4&order=funding&or_facet_research_org=grid.47840.3f\",\n",
    "    \"ucdavis\": \"https://dtic.dimensions.ai/discover/grant?search_mode=content&not_facet_funder=grid.496791.4&order=funding&or_facet_research_org=grid.27860.3b\",\n",
    "    \"ucirvine\": \"https://dtic.dimensions.ai/discover/grant?search_mode=content&not_facet_funder=grid.496791.4&order=funding&or_facet_research_org=grid.266093.8\",\n",
    "    \"ucr\": \"https://dtic.dimensions.ai/discover/grant?search_mode=content&not_facet_funder=grid.496791.4&order=funding&or_facet_research_org=grid.266097.c\",\n",
    "    \"ucsb\": \"https://dtic.dimensions.ai/discover/grant?search_mode=content&not_facet_funder=grid.496791.4&order=funding&or_facet_research_org=grid.133342.4\",\n",
    "    \"ucsf\": \"https://dtic.dimensions.ai/discover/grant?search_mode=content&not_facet_funder=grid.496791.4&order=funding&or_facet_research_org=grid.266102.1\",\n",
    "    \"ucsc\": \"https://dtic.dimensions.ai/discover/grant?search_mode=content&not_facet_funder=grid.496791.4&order=funding&or_facet_research_org=grid.205975.c\",\n",
    "    \"ucmerced\": \"https://dtic.dimensions.ai/discover/grant?search_mode=content&not_facet_funder=grid.496791.4&order=funding&or_facet_research_org=grid.266096.d\",\n",
    "    \"lawrence_berekeley\": \"https://dtic.dimensions.ai/discover/grant?search_mode=content&not_facet_funder=grid.496791.4&order=funding&or_facet_research_org=grid.184769.5\",\n",
    "    \"lawrence_livermore\": \"https://dtic.dimensions.ai/discover/grant?search_mode=content&not_facet_funder=grid.496791.4&order=funding&or_facet_research_org=grid.250008.f\",\n",
    "    \"los_alamos\": \"https://dtic.dimensions.ai/discover/grant?search_mode=content&not_facet_funder=grid.496791.4&order=funding&or_facet_research_org=grid.148313.c\",\n",
    "}[CAMPUS]\n",
    "\n",
    "# Determine where to save the data, relative to the current file location\n",
    "# DATA_FOLDER = Path(Path(__file__).parent, \"..\", \"..\", \"data\").resolve()\n",
    "# output_filename = Path(\n",
    "#     DATA_FOLDER, \"testing\", \"scraped\", f\"{CAMPUS}_dtic_webscraped.csv\"\n",
    "# )\n",
    "\n",
    "# Determine where to save the data, relative to the current working directory\n",
    "# current_dir = Path(os.getcwd())\n",
    "# DATA_FOLDER = current_dir.joinpath(\"..\", \"..\", \"data\").resolve()\n",
    "\n",
    "# CAMPUS = \"ucberkeley\"  # Replace with your actual campus name\n",
    "# output_filename = DATA_FOLDER.joinpath(\"testing\", \"scraped\", f\"{CAMPUS}_dtic_webscraped.csv\")\n"
   ]
  },
  {
   "cell_type": "code",
   "execution_count": 7,
   "metadata": {},
   "outputs": [],
   "source": [
    "# driver = webdriver.Chrome(service=webdriver.chrome.service.Service(executable_path=<Your Webdriver Path>))"
   ]
  },
  {
   "cell_type": "code",
   "execution_count": 10,
   "metadata": {},
   "outputs": [
    {
     "ename": "TypeError",
     "evalue": "WebDriver.__init__() got an unexpected keyword argument 'service'",
     "output_type": "error",
     "traceback": [
      "\u001b[1;31m---------------------------------------------------------------------------\u001b[0m",
      "\u001b[1;31mTypeError\u001b[0m                                 Traceback (most recent call last)",
      "Cell \u001b[1;32mIn[10], line 12\u001b[0m\n\u001b[0;32m      9\u001b[0m options\u001b[38;5;241m.\u001b[39mheadless \u001b[38;5;241m=\u001b[39m \u001b[38;5;28;01mTrue\u001b[39;00m  \u001b[38;5;66;03m# Run in headless mode, without opening a window\u001b[39;00m\n\u001b[0;32m     11\u001b[0m \u001b[38;5;66;03m# Initialize the WebDriver\u001b[39;00m\n\u001b[1;32m---> 12\u001b[0m driver \u001b[38;5;241m=\u001b[39m \u001b[43mwebdriver\u001b[49m\u001b[38;5;241;43m.\u001b[39;49m\u001b[43mFirefox\u001b[49m\u001b[43m(\u001b[49m\u001b[43mservice\u001b[49m\u001b[38;5;241;43m=\u001b[39;49m\u001b[43mservice\u001b[49m\u001b[43m,\u001b[49m\u001b[43m \u001b[49m\u001b[43moptions\u001b[49m\u001b[38;5;241;43m=\u001b[39;49m\u001b[43moptions\u001b[49m\u001b[43m)\u001b[49m\n",
      "\u001b[1;31mTypeError\u001b[0m: WebDriver.__init__() got an unexpected keyword argument 'service'"
     ]
    }
   ],
   "source": [
    "from selenium import webdriver\n",
    "from selenium.webdriver.firefox.service import Service\n",
    "from selenium.webdriver.firefox.options import Options\n",
    "\n",
    "service = Service(executable_path=geckodriver_path)\n",
    "\n",
    "# Optional: Set up Firefox options\n",
    "options = Options()\n",
    "options.headless = True  # Run in headless mode, without opening a window\n",
    "\n",
    "# Initialize the WebDriver\n",
    "driver = webdriver.Firefox(service=service, options=options)\n"
   ]
  },
  {
   "cell_type": "code",
   "execution_count": 3,
   "metadata": {},
   "outputs": [
    {
     "data": {
      "text/plain": [
       "'https://dtic.dimensions.ai/discover/grant?search_mode=content&not_facet_funder=grid.496791.4&order=funding&or_facet_research_org=grid.47840.3f'"
      ]
     },
     "execution_count": 3,
     "metadata": {},
     "output_type": "execute_result"
    }
   ],
   "source": [
    "url"
   ]
  },
  {
   "cell_type": "code",
   "execution_count": 6,
   "metadata": {},
   "outputs": [],
   "source": [
    "current_dir = Path(os.getcwd())\n",
    "geckodriver_path = current_dir.joinpath(\"geckodriver\").resolve()"
   ]
  },
  {
   "cell_type": "code",
   "execution_count": 4,
   "metadata": {},
   "outputs": [],
   "source": [
    "browser = webdriver.Firefox()"
   ]
  },
  {
   "cell_type": "code",
   "execution_count": 7,
   "metadata": {},
   "outputs": [
    {
     "name": "stderr",
     "output_type": "stream",
     "text": [
      "C:\\Users\\gabri\\AppData\\Local\\Temp\\ipykernel_9788\\3631560340.py:1: DeprecationWarning: executable_path has been deprecated, please pass in a Service object\n",
      "  browser = webdriver.Firefox(executable_path=geckodriver_path)\n"
     ]
    }
   ],
   "source": [
    "browser = webdriver.Firefox(executable_path=geckodriver_path)"
   ]
  }
 ],
 "metadata": {
  "kernelspec": {
   "display_name": "webscraping-env",
   "language": "python",
   "name": "python3"
  },
  "language_info": {
   "codemirror_mode": {
    "name": "ipython",
    "version": 3
   },
   "file_extension": ".py",
   "mimetype": "text/x-python",
   "name": "python",
   "nbconvert_exporter": "python",
   "pygments_lexer": "ipython3",
   "version": "3.12.3"
  }
 },
 "nbformat": 4,
 "nbformat_minor": 2
}
